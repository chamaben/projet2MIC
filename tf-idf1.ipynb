{
 "cells": [
  {
   "cell_type": "markdown",
   "metadata": {},
   "source": [
    "Dans ce notebook, nous avons développé un programme qui calcule le tf-idf de chaque texte d'un corpus."
   ]
  },
  {
   "cell_type": "code",
   "execution_count": 2,
   "metadata": {},
   "outputs": [],
   "source": [
    "import numpy as np\n",
    "import pandas as pd\n",
    "import re\n",
    "import math"
   ]
  },
  {
   "cell_type": "code",
   "execution_count": 3,
   "metadata": {},
   "outputs": [],
   "source": [
    "data = pd.read_csv(\"./arxiv_articles.csv\", sep=\"|\")"
   ]
  },
  {
   "cell_type": "code",
   "execution_count": 5,
   "metadata": {},
   "outputs": [],
   "source": [
    "##### tf-idf\n",
    "\n",
    "def nb_docs(corpus):         ## fonction qui renvoie le nombre de documents dans le corpus\n",
    "    return len(corpus)\n",
    "\n",
    "def quantite_doc(mot, corpus): ## fonction qui renvoie le nombre de document contenant le terme\n",
    "    nombre = 0\n",
    "    for texte in corpus:\n",
    "        liste_mots = liste_de_mots(texte)\n",
    "        for m in liste_mots:\n",
    "            if mot == m:\n",
    "                nombre += 1\n",
    "                break\n",
    "    return nombre\n",
    "\n",
    "def termes_tfidf(corpus):\n",
    "    termes = []\n",
    "    trouve = False\n",
    "    for texte in corpus:\n",
    "        liste_mots = liste_de_mots(texte)\n",
    "        for e in liste_mots:\n",
    "            trouve = False\n",
    "            for f in termes:\n",
    "                if e == f:\n",
    "                    trouve = True\n",
    "                    break\n",
    "            if trouve == False:\n",
    "                termes += [e]\n",
    "    return termes\n",
    "\n",
    "def occurences_mots(liste_mots):   ## Renvoie une matrice mot / occurence dans le texte\n",
    "    nbr_mots = [[], []]\n",
    "    for mot in liste_mots:\n",
    "        appartient = False\n",
    "        for a in range(len(nbr_mots[0])):\n",
    "            if nbr_mots[0][a] == mot:\n",
    "                appartient = True\n",
    "                nbr_mots[1][a] += 1\n",
    "        if appartient == False:\n",
    "            nbr_mots[0] += [mot]\n",
    "            nbr_mots[1] += [1]\n",
    "    return nbr_mots\n",
    "            \n",
    "        \n",
    "\n",
    "def liste_de_mots(texte):    ## Une chaine de caractères devient une liste de mots\n",
    "    p = re.compile(\"[a-z]+\")\n",
    "    return p.findall(texte.lower())\n",
    "\n",
    "\n",
    "def tf(texte):               ## Calcule le tf de tous les mots d'un texte\n",
    "    liste_mots = liste_de_mots(texte)\n",
    "    mots_apparition = occurences_mots(liste_mots)   # Série contenant le mot et le nombre de fois où il apparait dans le texte\n",
    "    max_apparition = max(mots_apparition[1])  # mot qui apparait le max de fois\n",
    "    matrice_tf = [[], []]\n",
    "    for b in range(len(mots_apparition[0])):\n",
    "        matrice_tf[0] += [mots_apparition[0][b]]\n",
    "        matrice_tf[1] += [mots_apparition[1][b]/max_apparition]\n",
    "    return matrice_tf\n",
    "\n",
    "def idf(mot, nb_de_docs, corpus):  ## Calcule l'idf d'un mot\n",
    "    return math.log(nb_de_docs/(1 + quantite_doc(mot, corpus)), 10)\n",
    "\n",
    "def tf_idf_texte(corpus, texte):\n",
    "    nb_de_docs = nb_docs(corpus)\n",
    "    matrice_tfidf = [[], []]\n",
    "    matrice_tf = tf(texte)\n",
    "    for c in range(len(matrice_tf[0])):\n",
    "        matrice_tfidf[0] += [matrice_tf[0][c]]\n",
    "        matrice_tfidf[1] += [matrice_tf[1][c]*idf([matrice_tf[0][c]], nb_de_docs, corpus)]\n",
    "    return matrice_tfidf\n",
    "\n",
    "\n",
    "        \n",
    "    "
   ]
  },
  {
   "cell_type": "code",
   "execution_count": 6,
   "metadata": {},
   "outputs": [
    {
     "name": "stdout",
     "output_type": "stream",
     "text": [
      "[['the', 'sun', 'in', 'sky', 'is', 'bright'], [1.0, 0.5, 0.5, 0.5, 0.5, 0.5]]\n",
      "[['the', 'sun', 'in', 'sky', 'is', 'bright'], [0.6020599913279623, 0.30102999566398114, 0.30102999566398114, 0.30102999566398114, 0.30102999566398114, 0.30102999566398114]]\n",
      "['the', 'sky', 'is', 'blue', 'sun', 'bright', 'today', 'in', 'we', 'can', 'see', 'shining']\n"
     ]
    }
   ],
   "source": [
    "## test sur une liste random\n",
    "liste = [\"The sky is blue.\", \"The sun is bright today.\",\"The sun in the sky is bright.\",\"We can see the shining sun the bright sun.\"]\n",
    "print(tf(liste[2]))\n",
    "print(tf_idf_texte(liste, liste[2]))\n",
    "print(termes_tfidf(liste))"
   ]
  },
  {
   "cell_type": "code",
   "execution_count": 8,
   "metadata": {},
   "outputs": [
    {
     "name": "stdout",
     "output_type": "stream",
     "text": [
      "[['we', 'show', 'that', 'every', 'essentially', 'countable', 'orbit', 'equivalence', 'relation', 'induced', 'by', 'a', 'continuous', 'action', 'of', 'polish', 'group', 'on', 'space', 'is', 'sigma', 'lacunary', 'in', 'combination', 'with', 'invent', 'math', 'obtain', 'straightforward', 'proof', 'the', 'result', 'from', 'adv', 'an', 'abelian', 'non', 'archimedean', 'hyperfinite'], [0.38907562519182176, 0.19453781259591088, 0.5836134377877327, 0.38907562519182176, 0.5836134377877327, 0.38907562519182176, 0.19453781259591088, 0.38907562519182176, 0.38907562519182176, 0.38907562519182176, 0.38907562519182176, 0.7781512503836435, 0.19453781259591088, 0.38907562519182176, 0.5836134377877327, 0.5836134377877327, 0.38907562519182176, 0.19453781259591088, 0.19453781259591088, 0.5836134377877327, 0.19453781259591088, 0.19453781259591088, 0.19453781259591088, 0.19453781259591088, 0.19453781259591088, 0.19453781259591088, 0.38907562519182176, 0.19453781259591088, 0.19453781259591088, 0.19453781259591088, 0.19453781259591088, 0.19453781259591088, 0.19453781259591088, 0.19453781259591088, 0.19453781259591088, 0.19453781259591088, 0.19453781259591088, 0.19453781259591088, 0.19453781259591088]]\n"
     ]
    }
   ],
   "source": [
    "## test sur notre corpus de textes\n",
    "data = pd.read_csv(\"./arxiv_articles.csv\", sep=\"|\")\n",
    "tf_idf = tf_idf_texte(data.loc[0:5, \"summary\"], data.loc[0:5, \"summary\"][0])\n",
    "print(tf_idf)"
   ]
  }
 ],
 "metadata": {
  "kernelspec": {
   "display_name": "Python 3",
   "language": "python",
   "name": "python3"
  },
  "language_info": {
   "codemirror_mode": {
    "name": "ipython",
    "version": 3
   },
   "file_extension": ".py",
   "mimetype": "text/x-python",
   "name": "python",
   "nbconvert_exporter": "python",
   "pygments_lexer": "ipython3",
   "version": "3.7.4"
  }
 },
 "nbformat": 4,
 "nbformat_minor": 2
}
